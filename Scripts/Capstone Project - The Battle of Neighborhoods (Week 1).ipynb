{
 "cells": [
  {
   "cell_type": "markdown",
   "metadata": {},
   "source": [
    "#  Introduction/Business Problem"
   ]
  },
  {
   "cell_type": "markdown",
   "metadata": {},
   "source": [
    "## Description & Disscusion of the Background\n"
   ]
  },
  {
   "cell_type": "markdown",
   "metadata": {},
   "source": [
    "\"The main purpose of the American school is to provide for the fullest possible development of each learner for living morally, creatively, and productively in a democratic society.\" —The ASCD Committee on Platform of Beliefs, Educational Leadership, January 1957  This statement is powerful and convincing. However, can education be given fairly regardless of race, gender, place of origin, or background?\n",
    "\n",
    "Education indeed is one of the most decisive elements and parameters for the children's economic future and success. I other words, it has a competitive and capitalistic aspect. I was born and raised in Japan, where elementary and middle school education is compulsory. Before kids attend an elementary school, they have an option of an affordable kindergarten and preschool for small toddlers. Even though the idea of sending small kids to these schools was not as popular as now, it is becoming more common as a society to accept and encourage more women to work in the workplace. \n",
    "\n",
    "Due to the fact that the population is declining, the cost of education for parents per child is also on the rise. The government's budget allocated to each city/ school is also fairly allocated, so that all children, regardless of family income, can study in the same classroom. From these reasons, I was able to grow up without having to feel the difference between wealthier children and me or be particularly aware of the characteristics of the area in which I lived.\n",
    "\n",
    "I studied abroad in Los Angeles, California, fifteen years ago. I still remember the experience I had at that time. Los Angeles, with a population of 12 million, is one of the largest cities in the United States. It is a melting pot of ethnic groups, with people from all over the world. It was a fascinating city to live in. \n",
    "\n",
    "In reality, however, the gap between the rich and the poor is stark, and cities are racially segregated, creating divisiveness among people not only psychologically but also socially, culturally, and politically. This fact came as a shock to me when I first came to America. People with lower incomes cannot attend schools with a good program and high scores because of their school district, which results in limiting the possibilities of those kids who live in these particular areas. However, I only knew those were facts from my perspective and not based on data.\n",
    "\n",
    "I am a father of 1, and I have been looking for the best preschool for my child in my city. However, it has not been successful because there is not much place. Even if I found someplace, either my child or I did not like the place. Besides, the prices were over our budget. On the other hand, in Santa Monica, CA, one of the most expensive cities to live in Los Angeles, there are many places. It made me wonder if the family wealth and educational opportunity, even for smaller kids, have a direct relationship. \n",
    "\n",
    "Through IBM's Data Scientist course, I will address these questions with the help of the power of data. I will reveal the facts and provide valuable information through the visual materials that policymakers and government officials could use to take appropriate actions and measures in the social welfare and school system fields."
   ]
  },
  {
   "cell_type": "markdown",
   "metadata": {},
   "source": [
    "## Data Description\n"
   ]
  },
  {
   "cell_type": "markdown",
   "metadata": {},
   "source": [
    "The primary data I will use in this project is the median household income in Los Angeles by zip code.\n",
    "I will use a technique called K-means, which is frequently used in data science to create clusters. Moreover, I will color for each cluster with boundaries so that we can intuitively see which areas are wealthy and which areas are not.\n",
    "\n",
    "On top of that, I would like to pin the preschool locations that I will obtain from Foursquare API. If my assumptions are correct, then the wealthier neighborhoods should have more educational facilities, and the lower-income neighborhoods should have fewer educational facilities.\n",
    "\n",
    "I would also like to find out the population (preferably under six years old) and the number of educational facilities in the area where each facility is located and plot a histogram or graph with an index of educational opportunities per person.\n",
    "\n",
    "Based on these objective data, I will test, evaluate, and discuss my hypothesis and draw conclusions.\n",
    "\n"
   ]
  }
 ],
 "metadata": {
  "kernelspec": {
   "display_name": "Python 3",
   "language": "python",
   "name": "python3"
  },
  "language_info": {
   "codemirror_mode": {
    "name": "ipython",
    "version": 3
   },
   "file_extension": ".py",
   "mimetype": "text/x-python",
   "name": "python",
   "nbconvert_exporter": "python",
   "pygments_lexer": "ipython3",
   "version": "3.7.7"
  },
  "toc": {
   "base_numbering": 1,
   "nav_menu": {},
   "number_sections": true,
   "sideBar": true,
   "skip_h1_title": false,
   "title_cell": "Table of Contents",
   "title_sidebar": "Contents",
   "toc_cell": false,
   "toc_position": {},
   "toc_section_display": true,
   "toc_window_display": false
  },
  "varInspector": {
   "cols": {
    "lenName": 16,
    "lenType": 16,
    "lenVar": 40
   },
   "kernels_config": {
    "python": {
     "delete_cmd_postfix": "",
     "delete_cmd_prefix": "del ",
     "library": "var_list.py",
     "varRefreshCmd": "print(var_dic_list())"
    },
    "r": {
     "delete_cmd_postfix": ") ",
     "delete_cmd_prefix": "rm(",
     "library": "var_list.r",
     "varRefreshCmd": "cat(var_dic_list()) "
    }
   },
   "types_to_exclude": [
    "module",
    "function",
    "builtin_function_or_method",
    "instance",
    "_Feature"
   ],
   "window_display": false
  }
 },
 "nbformat": 4,
 "nbformat_minor": 4
}
